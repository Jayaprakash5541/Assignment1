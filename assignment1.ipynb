{
  "nbformat": 4,
  "nbformat_minor": 0,
  "metadata": {
    "colab": {
      "provenance": []
    },
    "kernelspec": {
      "name": "python3",
      "display_name": "Python 3"
    },
    "language_info": {
      "name": "python"
    }
  },
  "cells": [
    {
      "cell_type": "markdown",
      "source": [
        "1)Deleting the few characters and reversing the remaining characters and printing\n",
        "\n",
        "---\n",
        "\n"
      ],
      "metadata": {
        "id": "_ixaIyYZqwfJ"
      }
    },
    {
      "cell_type": "code",
      "source": [
        "title=input(\"Enter title= \")\n",
        "title=title[:-2]\n",
        "def rev(str):\n",
        "  return str[::-1]\n",
        "print(\"Output=\",rev(title))\n"
      ],
      "metadata": {
        "colab": {
          "base_uri": "https://localhost:8080/"
        },
        "id": "rAx_63rWkUvj",
        "outputId": "35a56fde-90dd-48a4-d0d0-040a2f26aea9"
      },
      "execution_count": 4,
      "outputs": [
        {
          "output_type": "stream",
          "name": "stdout",
          "text": [
            "Enter title= python\n",
            "Output= htyp\n"
          ]
        }
      ]
    },
    {
      "cell_type": "markdown",
      "source": [
        "Performing Arithmetic operations"
      ],
      "metadata": {
        "id": "upB1Q_70rdfE"
      }
    },
    {
      "cell_type": "code",
      "source": [],
      "metadata": {
        "id": "5O2rhDX_2iVD"
      },
      "execution_count": null,
      "outputs": []
    },
    {
      "cell_type": "code",
      "source": [
        "x=int(input(\"Enter First number= \"))\n",
        "y=int(input(\"Enter Second number= \"))\n",
        "print(\"Addition= \",(x+y))\n",
        "print(\"Substraction= \",(x-y))\n",
        "print(\"Multiplication= \",(x*y))\n",
        "print(\"Division= \",(x/y))"
      ],
      "metadata": {
        "colab": {
          "base_uri": "https://localhost:8080/"
        },
        "id": "t3A1riWSkUxP",
        "outputId": "ca4f33a6-d49b-48f8-921e-7f1ec1755901"
      },
      "execution_count": 5,
      "outputs": [
        {
          "output_type": "stream",
          "name": "stdout",
          "text": [
            "Enter First number= 5\n",
            "Enter Second number= 9\n",
            "Addition=  14\n",
            "Substraction=  -4\n",
            "Multiplication=  45\n",
            "Division=  0.5555555555555556\n"
          ]
        }
      ]
    },
    {
      "cell_type": "markdown",
      "source": [
        "2)Replacing the particular character in a given string\n"
      ],
      "metadata": {
        "id": "buxVXPQErpZ1"
      }
    },
    {
      "cell_type": "code",
      "source": [
        "sentence=input(\"Enter sentence: \")\n",
        "sentence2=sentence.replace(\"python\",\"pythons\")\n",
        "print(\"New sentence is: \",sentence2)"
      ],
      "metadata": {
        "colab": {
          "base_uri": "https://localhost:8080/"
        },
        "id": "9gcZ6ollmOZu",
        "outputId": "bd0e2db3-1826-4984-f045-82e454e59d37"
      },
      "execution_count": 20,
      "outputs": [
        {
          "output_type": "stream",
          "name": "stdout",
          "text": [
            "Enter sentence: python\n",
            "New sentence is:  pythons\n"
          ]
        }
      ]
    },
    {
      "cell_type": "markdown",
      "source": [
        "3)Grading based upon the marks"
      ],
      "metadata": {
        "id": "bODDiq33r24C"
      }
    },
    {
      "cell_type": "code",
      "source": [
        "def grading(marks):\n",
        "  if(marks>=90 and marks<=100):\n",
        "    return 'A'\n",
        "  elif(marks>=80 and marks<=89):\n",
        "    return 'B'\n",
        "  elif(marks>=70 and marks<=79):\n",
        "    return 'C'\n",
        "  elif(marks>=60 and marks<=69):\n",
        "    return 'D'\n",
        "  elif(marks>100):\n",
        "    return 'value outof range'\n",
        "  else:\n",
        "    return 'E'\n",
        "Result=int(input(\"Enter the marks= \"))\n",
        "print(\"Grading=\",grading(Result))\n",
        ""
      ],
      "metadata": {
        "colab": {
          "base_uri": "https://localhost:8080/"
        },
        "id": "sc1P2makmsUE",
        "outputId": "e0f81266-249b-4552-af72-246a48417cef"
      },
      "execution_count": 21,
      "outputs": [
        {
          "output_type": "stream",
          "name": "stdout",
          "text": [
            "Enter the marks= 56\n",
            "Grading= E\n"
          ]
        }
      ]
    }
  ]
}